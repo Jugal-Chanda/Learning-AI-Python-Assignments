{
 "cells": [
  {
   "cell_type": "markdown",
   "metadata": {},
   "source": [
    "# Problem 1\n",
    "Write a function to compute 5/0 and use try/except to catch\n",
    "the exceptions."
   ]
  },
  {
   "cell_type": "code",
   "execution_count": 1,
   "metadata": {},
   "outputs": [
    {
     "name": "stdout",
     "output_type": "stream",
     "text": [
      "You can not divide something by 0\n"
     ]
    }
   ],
   "source": [
    "try:\n",
    "    x = 5/0\n",
    "except ZeroDivisionError:\n",
    "    print(\"You can not divide something by 0\")    "
   ]
  },
  {
   "cell_type": "markdown",
   "metadata": {},
   "source": [
    "# problem 2\n",
    "Implement a Python program to generate all sentences where subject is in [\"Americans\",\"Indians\"] and verb is in [\"Play\",\n",
    "\"watch\"] and the object is in [\"Baseball\",\"cricket\"].<br>\n",
    "Hint: Subject,Verb and Object should be declared in the program as shown below. <br><br>\n",
    "subjects=[\"Americans \",\"Indians\"] <br>\n",
    "verbs=[\"play\",\"watch\"] <br>\n",
    "objects=[\"Baseball\",\"Cricket\"] <br><br>\n",
    "Output should come as below: <br>\n",
    "Americans play Baseball.<br>\n",
    "Americans play Cricket.<br>\n",
    "Americans watch Baseball.<br>\n",
    "Americans watch Cricket.<br>\n",
    "Indians play Baseball.<br>\n",
    "Indians play Cricket.<br>\n",
    "Indians watch Baseball.<br>\n",
    "Indians watch Cricket."
   ]
  },
  {
   "cell_type": "code",
   "execution_count": 33,
   "metadata": {},
   "outputs": [
    {
     "name": "stdout",
     "output_type": "stream",
     "text": [
      "Subjects ['Americans', 'Indians']\n",
      "verbs ['Play', 'watch']\n",
      "objects ['Baseball', 'cricket']\n",
      "\n",
      "\n",
      "\n",
      "Americans Play Baseball.\n",
      "Americans Play cricket.\n",
      "Americans watch Baseball.\n",
      "Americans watch cricket.\n",
      "Indians Play Baseball.\n",
      "Indians Play cricket.\n",
      "Indians watch Baseball.\n",
      "Indians watch cricket.\n"
     ]
    }
   ],
   "source": [
    "subjects = [\"Americans\",\"Indians\"]\n",
    "verbs = [\"Play\", \"watch\"]\n",
    "objects = [\"Baseball\",\"cricket\"]\n",
    "\n",
    "print(\"Subjects {}\".format(subjects))\n",
    "print(\"verbs {}\".format(verbs))\n",
    "print(\"objects {}\".format(objects))\n",
    "print(\"\\n\\n\")\n",
    "for s in subjects:\n",
    "    for v in verbs:\n",
    "        for o in objects:\n",
    "            print(s+' '+v+' '+o+'.')"
   ]
  },
  {
   "cell_type": "markdown",
   "metadata": {},
   "source": [
    "# Problem 3\n",
    "Write a function so that the columns of the output matrix are powers of the input vector.The order of the powers is determined\n",
    "by the increasing boolean argument. Specifically, when increasing is False, the i-th output column is the input vector raised element-wise to the power of N - i - 1.<br>\n",
    "HINT: Such a matrix with a geometric progression in each row is named\n",
    "for Alexandre-Theophile Vandermonde"
   ]
  },
  {
   "cell_type": "code",
   "execution_count": 35,
   "metadata": {},
   "outputs": [
    {
     "name": "stdout",
     "output_type": "stream",
     "text": [
      "Input list [1, 2, 3, 4, 5]\n",
      "N is 3\n"
     ]
    },
    {
     "data": {
      "text/plain": [
       "[[1, 1, 1], [1, 2, 4], [1, 3, 9], [1, 4, 16], [1, 5, 25]]"
      ]
     },
     "execution_count": 35,
     "metadata": {},
     "output_type": "execute_result"
    }
   ],
   "source": [
    "# Letter\n",
    "def power(seq,N):\n",
    "    res = [ [i**(N-j-1) for j in reversed(range(N))] for i in seq  ]\n",
    "    return res\n",
    "lis = [1,2,3,4,5]\n",
    "print(\"Input list {}\".format(lis))\n",
    "print(\"N is 3\")\n",
    "power(lis,3)"
   ]
  },
  {
   "cell_type": "markdown",
   "metadata": {},
   "source": [
    "# Problem 4\n",
    "Write a Python Program to implement your own myreduce() function which works exactly like Python's built-in function reduce()"
   ]
  },
  {
   "cell_type": "code",
   "execution_count": 38,
   "metadata": {},
   "outputs": [
    {
     "name": "stdout",
     "output_type": "stream",
     "text": [
      "Input list [1, 2, 3, 4, 5, 6, 7]\n",
      "Function pass by perameter is lambda a,b : a+b\n",
      "\n",
      "Output is 28\n"
     ]
    }
   ],
   "source": [
    "def myreduce(fun,seq):\n",
    "    try:\n",
    "        res = seq[0]\n",
    "        for i in range(1,len(seq)):\n",
    "            res = fun(res,seq[i])\n",
    "        return res\n",
    "    except IndexError:\n",
    "        return \"Possibly sequence length is too sort or empty\"\n",
    "    except TypeError:\n",
    "        return \"possibly function perameter doesnot match. Expect two arugments\"\n",
    "lis = [1,2,3,4,5,6,7]\n",
    "print(\"Input list {}\".format(lis))\n",
    "print(\"Function pass by perameter is lambda a,b : a+b\\n\")\n",
    "print(\"Output is {}\".format(myreduce(lambda a,b : a+b,lis)))"
   ]
  },
  {
   "cell_type": "markdown",
   "metadata": {},
   "source": [
    "# Problem 5\n",
    "Write a Python program to implement your own myfilter() function which works exactly like Python's built-in function filter()"
   ]
  },
  {
   "cell_type": "code",
   "execution_count": 39,
   "metadata": {},
   "outputs": [
    {
     "name": "stdout",
     "output_type": "stream",
     "text": [
      "Input list [1, 2, 3, 4, 5, 6, 7]\n",
      "Find the even number from this list\n",
      "\n",
      "Output list [2, 4, 6]\n"
     ]
    }
   ],
   "source": [
    "def myfilter(fun,seq):\n",
    "    res = []\n",
    "    for s in seq:\n",
    "        if fun(s):\n",
    "            res.append(s)\n",
    "    return res\n",
    "lis = [1,2,3,4,5,6,7]\n",
    " \n",
    "def even(a):\n",
    "    if a%2:\n",
    "        return False\n",
    "    else:\n",
    "        return True\n",
    "print(\"Input list {}\".format(lis))\n",
    "print(\"Find the even number from this list\\n\")\n",
    "print(\"Output list {}\".format(myfilter(even,lis)))"
   ]
  },
  {
   "cell_type": "markdown",
   "metadata": {},
   "source": [
    "# Problem 6\n",
    "Implement List comprehensions to produce the following lists. Write List comprehensions to produce the following Lists. <br><br>\n",
    "['A', 'C', 'A', 'D', 'G', 'I', ’L’, ‘ D’]<br>\n",
    "['x', 'xx', 'xxx', 'xxxx', 'y', 'yy', 'yyy', 'yyyy', 'z', 'zz', 'zzz', 'zzzz']<br>\n",
    "['x', 'y', 'z', 'xx', 'yy', 'zz', 'xx', 'yy', 'zz', 'xxxx', 'yyyy', 'zzzz']<br>\n",
    "[[2], [3], [4], [3], [4], [5], [4], [5], [6]]<br>\n",
    "[[2, 3, 4, 5], [3, 4, 5, 6], [4, 5, 6, 7], [5, 6, 7, 8]]<br>\n",
    "[(1, 1), (2, 1), (3, 1), (1, 2), (2, 2), (3, 2), (1, 3), (2, 3), (3, 3)]<br>"
   ]
  },
  {
   "cell_type": "code",
   "execution_count": 40,
   "metadata": {},
   "outputs": [
    {
     "name": "stdout",
     "output_type": "stream",
     "text": [
      "Input list ['A', 'C', 'A', 'D', 'G', 'I', 'L', 'D']\n",
      "List comprehensions ['A', 'C', 'A', 'D', 'G', 'I', 'L', 'D'] \n",
      "\n",
      "\n"
     ]
    }
   ],
   "source": [
    "lis = ['A', 'C', 'A', 'D', 'G', 'I', 'L', 'D' ]\n",
    "list_comprehensions = [x for x in lis]\n",
    "print(\"Input list {}\".format(lis))\n",
    "print(\"List comprehensions {} \".format(list_comprehensions))\n",
    "print(\"\\n\")\n"
   ]
  },
  {
   "cell_type": "code",
   "execution_count": 41,
   "metadata": {},
   "outputs": [
    {
     "name": "stdout",
     "output_type": "stream",
     "text": [
      "Input list ['x', 'y', 'z']\n",
      "List comprehensions ['x', 'xx', 'xxx', 'xxxx', 'y', 'yy', 'yyy', 'yyyy', 'z', 'zz', 'zzz', 'zzzz'] \n",
      "\n",
      "\n"
     ]
    }
   ],
   "source": [
    "lis = ['x','y','z']\n",
    "list_comprehensions = [x*i for x in lis for i in range(1,5)]\n",
    "print(\"Input list {}\".format(lis))\n",
    "print(\"List comprehensions {} \".format(list_comprehensions))\n",
    "print(\"\\n\")"
   ]
  },
  {
   "cell_type": "code",
   "execution_count": 42,
   "metadata": {},
   "outputs": [
    {
     "name": "stdout",
     "output_type": "stream",
     "text": [
      "Input list ['x', 'y', 'z']\n",
      "List comprehensions ['x', 'y', 'z', 'xx', 'yy', 'zz', 'xxx', 'yyy', 'zzz', 'xxxx', 'yyyy', 'zzzz'] \n",
      "\n",
      "\n"
     ]
    }
   ],
   "source": [
    "lis = ['x','y','z']\n",
    "list_comprehensions = [x*i for i in range(1,5) for x in lis]\n",
    "print(\"Input list {}\".format(lis))\n",
    "print(\"List comprehensions {} \".format(list_comprehensions))\n",
    "print(\"\\n\")"
   ]
  },
  {
   "cell_type": "code",
   "execution_count": 43,
   "metadata": {},
   "outputs": [
    {
     "name": "stdout",
     "output_type": "stream",
     "text": [
      "List comprehensions [[2], [3], [4], [3], [4], [5], [4], [5], [6]] \n",
      "\n",
      "\n"
     ]
    }
   ],
   "source": [
    "list_comprehensions = [[i] for j in range(2,5) for i in range(j,j+3)]\n",
    "print(\"List comprehensions {} \".format(list_comprehensions))\n",
    "print(\"\\n\")"
   ]
  },
  {
   "cell_type": "code",
   "execution_count": 20,
   "metadata": {},
   "outputs": [
    {
     "name": "stdout",
     "output_type": "stream",
     "text": [
      "List comprehensions [[2, 3, 4, 5], [3, 4, 5, 6], [4, 5, 6, 7], [5, 6, 7, 8]] \n",
      "\n",
      "\n"
     ]
    }
   ],
   "source": [
    "list_comprehensions = [[i for i in range(j,j+4)] for j in range(2,6)]\n",
    "print(\"List comprehensions {} \".format(list_comprehensions))\n",
    "print(\"\\n\")"
   ]
  },
  {
   "cell_type": "code",
   "execution_count": 23,
   "metadata": {},
   "outputs": [
    {
     "name": "stdout",
     "output_type": "stream",
     "text": [
      "List comprehensions [(1, 1), (1, 2), (1, 3), (2, 1), (2, 2), (2, 3), (3, 1), (3, 2), (3, 3)] \n",
      "\n",
      "\n"
     ]
    }
   ],
   "source": [
    "list_comprehensions = [(i,j) for i in range(1,4) for j in range(1,4)]\n",
    "print(\"List comprehensions {} \".format(list_comprehensions))\n",
    "print(\"\\n\")"
   ]
  },
  {
   "cell_type": "markdown",
   "metadata": {},
   "source": [
    "# Pproblem 7\n",
    "Implement a function longestWord() that takes a list of words and returns the longest one."
   ]
  },
  {
   "cell_type": "code",
   "execution_count": 46,
   "metadata": {},
   "outputs": [
    {
     "name": "stdout",
     "output_type": "stream",
     "text": [
      "Input list ['a', 'aa', 'aaa', 'b', 'bbbb', 'aa']\n",
      "\n",
      "Longest word is bbbb\n"
     ]
    }
   ],
   "source": [
    "def longestWord(seq):\n",
    "    res = seq[0]\n",
    "    for s in seq:\n",
    "        if(len(s)>len(res)):\n",
    "            res = s\n",
    "    return res\n",
    "lis = ['a','aa','aaa','b','bbbb','aa']\n",
    "print(\"Input list {}\\n\".format(lis))\n",
    "print(\"Longest word is {}\".format(longestWord(lis)))"
   ]
  },
  {
   "cell_type": "markdown",
   "metadata": {},
   "source": [
    "# Problem 8\n",
    "\n",
    "Write a Python Program(with class concepts) to find the area of the triangle using the below formula. <br>\n",
    "area = (s*(s-a)*(s-b)*(s-c)) ** 0.5 <br>\n",
    "Function to take the length of the sides of triangle from user should be defined in the parent class and function to calculate the area should be defined in subclass."
   ]
  },
  {
   "cell_type": "code",
   "execution_count": 53,
   "metadata": {},
   "outputs": [],
   "source": [
    "class Triangle(object):\n",
    "    def sides(self):\n",
    "        self.a = int(input(\"side 1: \"))\n",
    "        self.b = int(input(\"side 2: \"))\n",
    "        self.c = int(input(\"side 3: \"))\n",
    "class Area(Triangle):\n",
    "    def __init__(self):\n",
    "        self.sides()\n",
    "    def calArea(self):\n",
    "        s = (self.a+self.b+self.c)/2\n",
    "        area = (s*(s-self.a)*(s-self.b)*(s-self.c)) ** 0.5\n",
    "        return area"
   ]
  },
  {
   "cell_type": "code",
   "execution_count": 54,
   "metadata": {},
   "outputs": [
    {
     "name": "stdout",
     "output_type": "stream",
     "text": [
      "side 1: 10\n",
      "side 2: 20\n",
      "side 3: 25\n"
     ]
    }
   ],
   "source": [
    "obj = Area()"
   ]
  },
  {
   "cell_type": "code",
   "execution_count": 55,
   "metadata": {},
   "outputs": [
    {
     "name": "stdout",
     "output_type": "stream",
     "text": [
      "Area of this triangle is 94.99177595981665\n"
     ]
    }
   ],
   "source": [
    "print(\"Area of this triangle is {}\".format(obj.calArea()))"
   ]
  },
  {
   "cell_type": "markdown",
   "metadata": {},
   "source": [
    "# Problem 9\n",
    "Write a function filter_long_words() that takes a list of words and an integer n and returns the list of words that are longer than n."
   ]
  },
  {
   "cell_type": "code",
   "execution_count": 57,
   "metadata": {},
   "outputs": [
    {
     "name": "stdout",
     "output_type": "stream",
     "text": [
      "Input list ['a', 'aa', 'aaa', 'aaaa', 'aaaaa', 'aaaaaa']\n",
      "\n",
      "Words that are longer than n ['aaaa', 'aaaaa', 'aaaaaa']\n"
     ]
    }
   ],
   "source": [
    "def filter_long_words(seq,n):\n",
    "    res = []\n",
    "    for s in seq:\n",
    "        if(len(s) >= n):\n",
    "            res.append(s)\n",
    "    return res\n",
    "lis = ['a','aa','aaa','aaaa','aaaaa','aaaaaa']\n",
    "print(\"Input list {}\\n\".format(lis))\n",
    "print(\"Words that are longer than n {}\".format(filter_long_words(lis,4)))"
   ]
  },
  {
   "cell_type": "markdown",
   "metadata": {},
   "source": [
    "# Problem 10 \n",
    "Write a Python program using function concept that maps list of words into a list of integers representing the lengths of the corresponding words.<br><br>\n",
    "<strong>Hint:</strong> If a list [ ab,cde,erty] is passed on to the python function output should come as [2,3,4] Here 2,3 and 4 are the lengths of the words in the list."
   ]
  },
  {
   "cell_type": "code",
   "execution_count": 58,
   "metadata": {},
   "outputs": [
    {
     "name": "stdout",
     "output_type": "stream",
     "text": [
      "Input list ['a', 'aa', 'aaa', 'aaaa', 'aaaaa', 'aaaaaa']\n",
      "\n",
      "Length of each words [1, 2, 3, 4, 5, 6]\n"
     ]
    }
   ],
   "source": [
    "def lengtList(seq):\n",
    "    res = []\n",
    "    for s in seq:\n",
    "        res.append(len(s))\n",
    "    return res\n",
    "lis = ['a','aa','aaa','aaaa','aaaaa','aaaaaa']\n",
    "print(\"Input list {}\\n\".format(lis))\n",
    "print(\"Length of each words {}\".format(lengtList(lis)))"
   ]
  },
  {
   "cell_type": "markdown",
   "metadata": {},
   "source": [
    "# Problem 11\n",
    "Write a Python function which takes a character (i.e. a string of length 1) and returns True if it is a vowel, False otherwise."
   ]
  },
  {
   "cell_type": "code",
   "execution_count": 13,
   "metadata": {},
   "outputs": [
    {
     "name": "stdout",
     "output_type": "stream",
     "text": [
      "vowel\n",
      "Consonent\n"
     ]
    }
   ],
   "source": [
    "def checkVowel(char):\n",
    "    char = char.lower()\n",
    "    if char == 'a' or char == 'e' or char == 'i' or char == 'o' or char == 'u':\n",
    "        return True\n",
    "    else:\n",
    "        return False\n",
    "\n",
    "if checkVowel('A'):\n",
    "    print(\"A is vowel\")\n",
    "else:\n",
    "    print(\"A is Consonent\")\n",
    "\n",
    "if checkVowel('C'):\n",
    "    print(\"vowel\")\n",
    "else:\n",
    "    print(\"Consonent\")\n",
    "      "
   ]
  }
 ],
 "metadata": {
  "kernelspec": {
   "display_name": "Python 3",
   "language": "python",
   "name": "python3"
  },
  "language_info": {
   "codemirror_mode": {
    "name": "ipython",
    "version": 3
   },
   "file_extension": ".py",
   "mimetype": "text/x-python",
   "name": "python",
   "nbconvert_exporter": "python",
   "pygments_lexer": "ipython3",
   "version": "3.7.6"
  }
 },
 "nbformat": 4,
 "nbformat_minor": 4
}
